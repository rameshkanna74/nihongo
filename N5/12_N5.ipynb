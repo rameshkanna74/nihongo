{
 "cells": [
  {
   "cell_type": "markdown",
   "metadata": {},
   "source": [
    "# Vocabulary"
   ]
  },
  {
   "cell_type": "markdown",
   "metadata": {},
   "source": [
    "    1.あね 姉 n. elder sister(When talking about your own sister)\n",
    "    2.おねえさん お姉さん n. elder sister\n",
    "    3.いもうと 妹 n. younger sister-\n",
    "    4.おとうと 弟 n. younger brother\n",
    "    5.おば n. aunt(when talking about your own aunt)\n",
    "    6.おばさん n. aunt\n",
    "    7.おじ n. uncle(When talking about your own uncle)\n",
    "    8.おじさん n. uncle\n",
    "    9.~ちゃん suffix suffix added to a girl's first name\n",
    "    10.~くん ~君 suffix suffix added to a boy's first name\n",
    "    11.ハッピー ハッピーゆうえんち 遊園地 n. an amusement park name\n",
    "    12.かんらんしゃ 観覧車 n. ferries wheel\n",
    "    13.ぜんかい 前回 n. last time\n",
    "    14.じかい 次回 n. next time\n",
    "    15.あめ 雨 n. rain\n",
    "    16.ゆき 雪 n. snow\n",
    "    17.はれ 晴れ n. clear weather\n",
    "    18.くもり 曇り n. cloudy weather\n",
    "    19.かぜ 風 n. wind\n",
    "    20.はれる 晴れる G2 to clear (up)\n",
    "    21.ふる 降る G1 to fall (rain/snow)\n",
    "    22.ふく 吹く G1 to blow (wind)\n",
    "    23.ごろ 頃 suffix about/around (used for time)\n",
    "    24.じしょ 辞書 n. dictionary\n",
    "    25.でんしじしょ 電子辞書 n. electronic dictionary\n"
   ]
  },
  {
   "cell_type": "markdown",
   "metadata": {},
   "source": [
    "    26.じゅぎょう 授業 n. class\n",
    "    27.ふじさん 富士山 n. Mt. Fuji\n",
    "    28.やま 山 n. mountain\n",
    "    29.のぼる 登る G1 to climb\n",
    "    30.しあい 試合 n. match/game\n",
    "    31.かつ 勝つ G1 to win\n",
    "    32.りゅうがく 留学 n./G3 studying abroad/to study abroad\n",
    "    33.なつやすみ n. summer vacation\n",
    "    34.ふゆやすみ n. winter vacation\n",
    "    35.はるやすみ n. spring vacation\n",
    "    36.しらべる G2 to examine/to search\n",
    "    37.でかける G2 to go out\n",
    "    38.きゃく n. customer\n",
    "    39.てんちょう n. store manager\n",
    "    40.ケーキ n. cake\n",
    "    41.みのり Minori (a Japanese girl's first name)\n",
    "    42.かずこ 和子 n. Kazuko (a Japanese girl's first name)\n",
    "    43.たくや 拓也 n. Takuya (a Japanese boy's first name)\n",
    "    44.アパート n. apartment\n",
    "    45.マンション n. condominium\n"
   ]
  },
  {
   "cell_type": "markdown",
   "metadata": {},
   "source": [
    "Here’s the formatted table for the new vocabulary you provided:\n",
    "\n",
    "---\n",
    "\n",
    "| No. | Japanese (Kanji) | Hiragana           | Romaji        | English Translation                 | Part of Speech | Example Sentence (Japanese)  | Example Sentence (English)               | Example Sentence (Romaji)       | Notes                                   |\n",
    "| --- | ---------------- | ------------------ | ------------- | ----------------------------------- | -------------- | ---------------------------- | ---------------------------------------- | ------------------------------- | --------------------------------------- |\n",
    "| 1   | 姉               | あね               | ane           | elder sister (your own sister)      | n.             | 姉は東京に住んでいます。     | My elder sister lives in Tokyo.          | Ane wa Tōkyō ni sundeimasu.     | Used when referring to one's own sister |\n",
    "| 2   | お姉さん         | おねえさん         | onēsan        | elder sister                        | n.             | お姉さんは優しいです。       | Your elder sister is kind.               | Onēsan wa yasashii desu.        | Polite term for someone else's sister   |\n",
    "| 3   | 妹               | いもうと           | imōto         | younger sister                      | n.             | 妹が遊びに来ます。           | My younger sister is coming over.        | Imōto ga asobi ni kimasu.       | Refers to one's own younger sister      |\n",
    "| 4   | 弟               | おとうと           | otōto         | younger brother                     | n.             | 弟はサッカーが好きです。     | My younger brother likes soccer.         | Otōto wa sakkā ga suki desu.    | Refers to one's own younger brother     |\n",
    "| 5   | おば             | おば               | oba           | aunt (your own aunt)                | n.             | おばが遊びに来ます。         | My aunt is coming over.                  | Oba ga asobi ni kimasu.         | Used for one's own aunt                 |\n",
    "| 6   | おばさん         | おばさん           | obasan        | aunt                                | n.             | おばさんはお料理が得意です。 | My aunt is good at cooking.              | Obasan wa ryōri ga tokui desu.  | General term for aunt                   |\n",
    "| 7   | おじ             | おじ               | oji           | uncle (your own uncle)              | n.             | おじが車を持っています。     | My uncle has a car.                      | Oji ga kuruma o motteimasu.     | Used for one's own uncle                |\n",
    "| 8   | おじさん         | おじさん           | ojisan        | uncle                               | n.             | おじさんは面白い人です。     | My uncle is an interesting person.       | Ojisan wa omoshiroi hito desu.  | General term for uncle                  |\n",
    "| 9   | ~ちゃん          | ~ちゃん            | ~chan         | suffix added to a girl's first name | suffix         | さくらちゃんが来た。         | Sakura-chan has come.                    | Sakura-chan ga kita.            | Indicates familiarity or affection      |\n",
    "| 10  | ~くん            | ~くん              | ~kun          | suffix added to a boy's first name  | suffix         | たろうくんは元気です。       | Taro-kun is doing well.                  | Tarō-kun wa genki desu.         | Used for boys, often among friends      |\n",
    "| 11  | ハッピー遊園地   | ハッピーゆうえんち | Happī Yūenchi | Happy Amusement Park                | n.             | ハッピー遊園地は楽しいです。 | Happy Amusement Park is fun.             | Happī Yūenchi wa tanoshii desu. | Name of a specific amusement park       |\n",
    "| 12  | 観覧車           | かんらんしゃ       | kanransha     | ferris wheel                        | n.             | 観覧車に乗りたいです。       | I want to ride the ferris wheel.         | Kanransha ni noritai desu.      | Popular attraction at amusement parks   |\n",
    "| 13  | 前回             | ぜんかい           | zenkai        | last time                           | n.             | 前回は楽しかったです。       | Last time was fun.                       | Zenkai wa tanoshikatta desu.    | Refers to the previous occasion         |\n",
    "| 14  | 次回             | じかい             | jikai         | next time                           | n.             | 次回はもっと面白いです。     | Next time will be more interesting.      | Jikai wa motto omoshiroi desu.  | Refers to the upcoming occasion         |\n",
    "| 15  | 雨               | あめ               | ame           | rain                                | n.             | 雨が降っています。           | It is raining.                           | Ame ga futteimasu.              | Common weather term                     |\n",
    "| 16  | 雪               | ゆき               | yuki          | snow                                | n.             | 雪が積もっています。         | Snow is piling up.                       | Yuki ga tsumotteimasu.          | Common weather term                     |\n",
    "| 17  | 晴れ             | はれ               | hare          | clear weather                       | n.             | 晴れた日が好きです。         | I like sunny days.                       | Haretahi ga suki desu.          | Indicates good weather                  |\n",
    "| 18  | 曇り             | くもり             | kumori        | cloudy weather                      | n.             | 今日は曇りです。             | Today is cloudy.                         | Kyō wa kumori desu.             | Indicates overcast conditions           |\n",
    "| 19  | 風               | かぜ               | kaze          | wind                                | n.             | 風が強いです。               | The wind is strong.                      | Kaze ga tsuyoi desu.            | Common weather term                     |\n",
    "| 20  | 晴れる           | はれる             | hareru        | to clear (up)                       | G2             | 天気が晴れます。             | The weather will clear up.               | Tenki ga haremasu.              | Refers to improving weather             |\n",
    "| 21  | 降る             | ふる               | furu          | to fall (rain/snow)                 | G1             | 雨が降っています。           | It is raining.                           | Ame ga futteimasu.              | Refers to precipitation                 |\n",
    "| 22  | 吹く             | ふく               | fuku          | to blow (wind)                      | G1             | 風が吹いています。           | The wind is blowing.                     | Kaze ga fuiteimasu.             | Refers to wind movement                 |\n",
    "| 23  | 頃               | ごろ               | goro          | about/around (used for time)        | suffix         | 五時頃に会いましょう。       | Let's meet around five o'clock.          | Go-ji goro ni aimashou.         | Used for estimating time                |\n",
    "| 24  | 辞書             | じしょ             | jisho         | dictionary                          | n.             | 辞書を使っています。         | I am using a dictionary.                 | Jisho o tsukatteimasu.          | Reference tool for language             |\n",
    "| 25  | 電子辞書         | でんしじしょ       | denshi jisho  | electronic dictionary               | n.             | 電子辞書が便利です。         | The electronic dictionary is convenient. | Denshi jisho ga benri desu.     | Modern tool for language study          |\n",
    "\n",
    "---\n",
    "\n",
    "Feel free to ask if you have more vocabulary or need further assistance!\n"
   ]
  },
  {
   "cell_type": "markdown",
   "metadata": {},
   "source": [
    "Here’s the formatted table for the additional vocabulary you provided:\n",
    "\n",
    "---\n",
    "\n",
    "| No. | Japanese (Kanji) | Hiragana   | Romaji      | English Translation                   | Part of Speech | Example Sentence (Japanese)      | Example Sentence (English)                  | Example Sentence (Romaji)                       | Notes                                  |\n",
    "| --- | ---------------- | ---------- | ----------- | ------------------------------------- | -------------- | -------------------------------- | ------------------------------------------- | ----------------------------------------------- | -------------------------------------- |\n",
    "| 26  | 授業             | じゅぎょう | jugyō       | class                                 | n.             | 授業は午前九時に始まります。     | Class starts at 9 AM.                       | Jugyō wa gozen kyuu-ji ni hajimarimasu.         | Educational context                    |\n",
    "| 27  | 富士山           | ふじさん   | Fujisan     | Mt. Fuji                              | n.             | 富士山は日本一高い山です。       | Mt. Fuji is the tallest mountain in Japan.  | Fujisan wa Nihon ichi takai yama desu.          | Iconic symbol of Japan                 |\n",
    "| 28  | 山               | やま       | yama        | mountain                              | n.             | 山に登るのが好きです。           | I like climbing mountains.                  | Yama ni noboru no ga suki desu.                 | General term for a mountain            |\n",
    "| 29  | 登る             | のぼる     | noboru      | to climb                              | G1             | 山を登るのは楽しいです。         | Climbing mountains is fun.                  | Yama o noboru no wa tanoshii desu.              | Action of ascending                    |\n",
    "| 30  | 試合             | しあい     | shiai       | match/game                            | n.             | サッカーの試合があります。       | There is a soccer match.                    | Sakkā no shiai ga arimasu.                      | Competitive context                    |\n",
    "| 31  | 勝つ             | かつ       | katsu       | to win                                | G1             | 試合に勝ちました。               | We won the match.                           | Shiai ni kachimashita.                          | Refers to achieving victory            |\n",
    "| 32  | 留学             | りゅうがく | ryūgaku     | studying abroad/to study abroad       | n./G3          | 留学するのが夢です。             | Studying abroad is my dream.                | Ryūgaku suru no ga yume desu.                   | Common aspiration for students         |\n",
    "| 33  | 夏休み           | なつやすみ | natsuyasumi | summer vacation                       | n.             | 夏休みが待ち遠しいです。         | I can't wait for summer vacation.           | Natsuyasumi ga machidooshii desu.               | School break during summer             |\n",
    "| 34  | 冬休み           | ふゆやすみ | fuyuyasumi  | winter vacation                       | n.             | 冬休みは家族と過ごします。       | I spend winter vacation with my family.     | Fuyuyasumi wa kazoku to sugoshimasu.            | School break during winter             |\n",
    "| 35  | 春休み           | はるやすみ | haruyasumi  | spring vacation                       | n.             | 春休みは旅行に行きます。         | I will go on a trip during spring vacation. | Haruyasumi wa ryokō ni ikimasu.                 | School break during spring             |\n",
    "| 36  | 調べる           | しらべる   | shiraberu   | to examine/to search                  | G2             | 本を調べています。               | I am examining the book.                    | Hon o shirabeteimasu.                           | Refers to researching or investigating |\n",
    "| 37  | 出かける         | でかける   | dekakeru    | to go out                             | G2             | 友達と出かけます。               | I will go out with my friends.              | Tomodachi to dekakemasu.                        | Indicates leaving home for an outing   |\n",
    "| 38  | 客               | きゃく     | kyaku       | customer                              | n.             | 客がたくさん来ています。         | Many customers are coming.                  | Kyaku ga takusan kiteimasu.                     | Refers to patrons or clients           |\n",
    "| 39  | 店長             | てんちょう | tenchō      | store manager                         | n.             | 店長が新しい商品を紹介しました。 | The store manager introduced a new product. | Tenchō ga atarashii shōhin o shōkai shimashita. | Refers to the head of a store          |\n",
    "| 40  | ケーキ           | ケーキ     | kēki        | cake                                  | n.             | ケーキがとても美味しいです。     | The cake is very delicious.                 | Kēki ga totemo oishii desu.                     | Popular dessert                        |\n",
    "| 41  | 美乃梨           | みのり     | Minori      | Minori (a Japanese girl's first name) | n.             | 美乃梨さんはとても優しいです。   | Minori-san is very kind.                    | Minori-san wa totemo yasashii desu.             | Common name for girls                  |\n",
    "| 42  | 和子             | かずこ     | Kazuko      | Kazuko (a Japanese girl's first name) | n.             | 和子さんは学生です。             | Kazuko-san is a student.                    | Kazuko-san wa gakusei desu.                     | Common name for girls                  |\n",
    "| 43  | 拓也             | たくや     | Takuya      | Takuya (a Japanese boy's first name)  | n.             | 拓也くんはサッカー選手です。     | Takuya-kun is a soccer player.              | Takuya-kun wa sakkā senshu desu.                | Common name for boys                   |\n",
    "| 44  | アパート         | アパート   | apāto       | apartment                             | n.             | アパートに住んでいます。         | I live in an apartment.                     | Apāto ni sundeimasu.                            | Type of housing                        |\n",
    "| 45  | マンション       | マンション | manshon     | condominium                           | n.             | マンションは便利です。           | The condominium is convenient.              | Manshon wa benri desu.                          | More spacious than an apartment        |\n",
    "\n",
    "---\n",
    "\n",
    "If you have more vocabulary or need anything else, feel free to ask!\n"
   ]
  },
  {
   "cell_type": "markdown",
   "metadata": {},
   "source": []
  },
  {
   "cell_type": "markdown",
   "metadata": {},
   "source": []
  },
  {
   "cell_type": "markdown",
   "metadata": {},
   "source": [
    "---"
   ]
  },
  {
   "cell_type": "markdown",
   "metadata": {},
   "source": [
    "# Conversation"
   ]
  },
  {
   "cell_type": "markdown",
   "metadata": {},
   "source": [
    "妹:ねえ、お姉ちゃん、明日 忙しい?\n",
    "\n",
    "安藤:え? あした?\n",
    "\n",
    "妹:うん。\n",
    "\n",
    "安藤:明日は 休みだけど、どうしたの?\n",
    "\n",
    "妹:いっしょに ハッピー遊園地に 行かない?\n",
    "\n",
    "安藤:いいけど、明日 みのりちゃん アルバイトが あるでしょう。\n",
    "\n",
    "妹: 休みに なったよ。 だから、一緒に 行きましょうよ。\n",
    "\n",
    "安藤:そうなんだ。みのりちゃん、ハッピー遊園地に 前回いつごろ 行ったの?\n",
    "\n",
    "妹: 先週の 土曜日。\n",
    "\n",
    "安藤:ええ? それでも 明日 また行くの?\n",
    "\n",
    "妹: ハッピー遊園地が 大好きだから。 一緒に 遊びましょうよ。\n",
    "\n",
    "安藤:うん、わかった。じゃあ、行きましょう。ちょっと、明日の天気を 調べるね。明日は 晴れだね。\n",
    "\n",
    "妹: よかった。\n",
    "\n",
    "安藤:私の アパートは ハッピー遊園地に 近いから、今晩、うちに 泊まる?\n",
    "\n",
    "妹: うん、ありがとう。 じゃ、お母さんに 電話するね。\n"
   ]
  },
  {
   "cell_type": "markdown",
   "metadata": {},
   "source": [
    "Here's the formatted table for your latest conversation:\n",
    "\n",
    "| Speaker | Japanese (Hiragana)                                                                      | Japanese (Kanji)                                                                       | English Translation                                                                 | Romaji                                                                                      | Notes                                                 |\n",
    "| ------- | ---------------------------------------------------------------------------------------- | -------------------------------------------------------------------------------------- | ----------------------------------------------------------------------------------- | ------------------------------------------------------------------------------------------- | ----------------------------------------------------- |\n",
    "| 妹      | ねえ、お姉ちゃん、あした いそがしい?                                                     | ねえ、お姉ちゃん、明日忙しい?                                                          | Hey, big sister, are you busy tomorrow?                                             | Nee, onee-chan, ashita isogashii?                                                           | Starting the conversation casually.                   |\n",
    "| 安藤    | え? あした?                                                                              | え? 明日?                                                                              | Huh? Tomorrow?                                                                      | E? Ashita?                                                                                  | Clarifying the question.                              |\n",
    "| 妹      | うん。                                                                                   | うん。                                                                                 | Yeah.                                                                               | Un.                                                                                         | Confirming her answer.                                |\n",
    "| 安藤    | 明日は やすみだけど、どうしたの?                                                         | 明日は休みだけど、どうしたの?                                                          | I'm off tomorrow, but what's up?                                                    | Ashita wa yasumi dakedo, dou shita no?                                                      | Asking for the reason.                                |\n",
    "| 妹      | いっしょに ハッピー遊園地に 行かない?                                                    | 一緒にハッピー遊園地に行かない?                                                        | Want to go to Happy Amusement Park together?                                        | Issho ni Happī Yūenchi ni ikanai?                                                           | Proposing an outing.                                  |\n",
    "| 安藤    | いいけど、明日 みのりちゃん アルバイトが あるでしょう。                                  | いいけど、明日みのりちゃんアルバイトがあるでしょう。                                   | That sounds good, but Minori-chan has her part-time job tomorrow, right?            | Ii kedo, ashita Minori-chan arubaito ga aru deshou.                                         | Mentioning a potential conflict.                      |\n",
    "| 妹      | 休みに なったよ。だから、一緒に 行きましょうよ。                                         | 休みになったよ。だから、一緒に行きましょうよ。                                         | She got the day off. So let's go together!                                          | Yasumi ni natta yo. Dakara, issho ni ikimashou yo.                                          | Explaining the change in plans.                       |\n",
    "| 安藤    | そうなんだ。みのりちゃん、ハッピー遊園地に 前回いつごろ 行ったの?                        | そうなんだ。みのりちゃん、ハッピー遊園地に前回いつごろ行ったの?                        | I see. When was the last time Minori-chan went to Happy Amusement Park?             | Sou nanda. Minori-chan, Happī Yūenchi ni zenkai itsu goro itta no?                          | Asking for more information.                          |\n",
    "| 妹      | 先週の 土曜日。                                                                          | 先週の土曜日。                                                                         | Last Saturday.                                                                      | Senshuu no doyoubi.                                                                         | Providing the last visit date.                        |\n",
    "| 安藤    | ええ? それでも 明日 また行くの?                                                          | ええ? それでも明日また行くの?                                                          | Huh? Are you really going again tomorrow?                                           | Ee? Sore demo ashita mata iku no?                                                           | Expressing surprise.                                  |\n",
    "| 妹      | ハッピー遊園地が 大好きだから。一緒に 遊びましょうよ。                                   | ハッピー遊園地が大好きだから。一緒に遊びましょうよ。                                   | I love Happy Amusement Park! Let’s have fun together!                               | Happī Yūenchi ga daisuki dakara. Issho ni asobimashou yo.                                   | Sharing enthusiasm for the amusement park.            |\n",
    "| 安藤    | うん、わかった。じゃあ、行きましょう。ちょっと、明日の天気を 調べるね。明日は 晴れだね。 | うん、わかった。じゃあ、行きましょう。ちょっと、明日の天気を調べるね。明日は晴れだね。 | Okay, got it. Let’s go! Let me check the weather for tomorrow. It’s sunny!          | Un, wakatta. Jaa, ikimashou. Chotto, ashita no tenki wo shiraberu ne. Ashita wa hare da ne. | Confirming the plan and checking the weather.         |\n",
    "| 妹      | よかった。                                                                               | よかった。                                                                             | That’s great!                                                                       | Yokatta.                                                                                    | Expressing relief or happiness about the weather.     |\n",
    "| 安藤    | 私の アパートは ハッピー遊園地に 近いから、今晩、うちに 泊まる?                          | 私のアパートはハッピー遊園地に近いから、今晩、うちに泊まる?                            | My apartment is close to Happy Amusement Park, so do you want to stay over tonight? | Watashi no apāto wa Happī Yūenchi ni chikai kara, konban, uchi ni tomaru?                   | Offering to host for the night.                       |\n",
    "| 妹      | うん、ありがとう。じゃ、お母さんに 電話するね。                                          | うん、ありがとう。じゃ、お母さんに電話するね。                                         | Yeah, thank you! Then I'll call Mom.                                                | Un, arigatou. Ja, okaasan ni denwa suru ne.                                                 | Confirming plans and mentioning calling their mother. |\n",
    "\n",
    "If you need any more assistance, feel free to ask!\n"
   ]
  },
  {
   "cell_type": "markdown",
   "metadata": {},
   "source": [
    "---"
   ]
  },
  {
   "cell_type": "markdown",
   "metadata": {},
   "source": [
    "# Grammar 1\n"
   ]
  },
  {
   "cell_type": "markdown",
   "metadata": {},
   "source": []
  },
  {
   "cell_type": "markdown",
   "metadata": {},
   "source": []
  },
  {
   "cell_type": "markdown",
   "metadata": {},
   "source": []
  },
  {
   "cell_type": "markdown",
   "metadata": {},
   "source": [
    "---\n",
    "---"
   ]
  },
  {
   "cell_type": "markdown",
   "metadata": {},
   "source": [
    "# Grammar 2\n"
   ]
  },
  {
   "cell_type": "markdown",
   "metadata": {},
   "source": [
    "① 動詞の 丁寧形 と 普通形\n",
    "Verbs’ polite form and plain form\n",
    "\n",
    "1.明日 本 を 読みます。\n",
    "I will read a book tomorrow.\n",
    "\n",
    "1.明日 本 を 読む。\n",
    "I will read a book tomorrow.\n",
    "\n",
    "② い形 容 詞 の 丁寧形 と 普通形\n",
    "い-adjectives’ polite form and plain form\n",
    "\n",
    "3.昨日は 暑 かったです。\n",
    "It was hot yesterday.\n",
    "\n",
    "3.昨日 暑 かった。\n",
    "It was hot yesterday.\n",
    "\n",
    "③ な形 容 詞 の 丁寧形 と 普通形\n",
    "な-adjectives’ polite form and plain form\n",
    "\n",
    "3.アニメが 好きでした。\n",
    "I liked animation.\n",
    "\n",
    "3.アニメが 好きだった。\n",
    "I liked animation.\n",
    "\n",
    "④ 名 詞 文 の 丁寧形 と 普通形\n",
    "Nouns’ polite form and plain form \n",
    "\n",
    "4.ここは 学校では ありませんで した。\n",
    "There wasn't a school. \n",
    "\n",
    "4.ここは 学 校 じゃなかった。\n",
    "There wasn't a school.\n"
   ]
  },
  {
   "cell_type": "markdown",
   "metadata": {},
   "source": [
    "Sure! Here’s a detailed explanation of the polite form and plain form in Japanese grammar.\n",
    "\n",
    "### 1. **Explanation:**\n",
    "\n",
    "In Japanese, verbs, adjectives, and nouns can be expressed in two main forms: the **polite form** and the **plain form**.\n",
    "\n",
    "- **Polite Form:** Used in formal situations, such as speaking with strangers, elders, or in business contexts. It typically ends in **-ます** for verbs, **-です** for adjectives, and follows specific constructions for nouns.\n",
    "- **Plain Form:** Used in casual conversations, among friends, or in writing. This form is more direct and often seen in informal contexts.\n",
    "\n",
    "Understanding the difference is crucial for appropriate communication in different social situations.\n",
    "\n",
    "### 2. **Conjugation/Transformation Rules:**\n",
    "\n",
    "- **Verbs:**\n",
    "\n",
    "  - Polite: V ます (e.g., 読みます)\n",
    "  - Plain: V dictionary form (e.g., 読む)\n",
    "\n",
    "- **い-Adjectives:**\n",
    "\n",
    "  - Polite: い-adjective + です (e.g., 暑かったです)\n",
    "  - Plain: い-adjective (e.g., 暑かった)\n",
    "\n",
    "- **な-Adjectives:**\n",
    "\n",
    "  - Polite: な-adjective + です (e.g., 好きでした)\n",
    "  - Plain: な-adjective + だった (e.g., 好きだった)\n",
    "\n",
    "- **Nouns:**\n",
    "  - Polite: Noun + ではありませんでした (e.g., 学校ではありませんでした)\n",
    "  - Plain: Noun + じゃなかった (e.g., 学校じゃなかった)\n",
    "\n",
    "### 3. **Examples and Explanation:**\n",
    "\n",
    "| No. | Japanese Sentence (Hiragana)          | Japanese Sentence (Kanji)         | English Translation          | Romaji                                | Notes                         |\n",
    "| --- | ------------------------------------- | --------------------------------- | ---------------------------- | ------------------------------------- | ----------------------------- |\n",
    "| 1   | あした ほんを よみます。              | 明日 本 を 読みます。             | I will read a book tomorrow. | Ashita hon o yomimasu.                | Polite form of the verb.      |\n",
    "| 2   | あした ほんを よむ。                  | 明日 本 を 読む。                 | I will read a book tomorrow. | Ashita hon o yomu.                    | Plain form of the verb.       |\n",
    "| 3   | きのうは あつかったです。             | 昨日は 暑かったです。             | It was hot yesterday.        | Kinō wa atsukatta desu.               | Polite form of the adjective. |\n",
    "| 4   | きのう あつかった。                   | 昨日 暑かった。                   | It was hot yesterday.        | Kinō atsukatta.                       | Plain form of the adjective.  |\n",
    "| 5   | アニメが すきでした。                 | アニメが 好きでした。             | I liked animation.           | Anime ga sukideshita.                 | Polite form of the adjective. |\n",
    "| 6   | アニメが すきだった。                 | アニメが 好きだった。             | I liked animation.           | Anime ga sukidatta.                   | Plain form of the adjective.  |\n",
    "| 7   | ここは がっこうではありませんでした。 | ここは 学校ではありませんでした。 | There wasn't a school here.  | Koko wa gakkō de wa arimasen deshita. | Polite form of the noun.      |\n",
    "| 8   | ここは がっこうじゃなかった。         | ここは 学校じゃなかった。         | There wasn't a school here.  | Koko wa gakkō ja nakatta.             | Plain form of the noun.       |\n",
    "| 9   | あなたは せんせいですか。             | あなたは 先生ですか。             | Are you a teacher?           | Anata wa sensei desu ka?              | Polite form of the noun.      |\n",
    "| 10  | かれは おとうさんだった。             | 彼は お父さんだった。             | He was my father.            | Kare wa otōsan datta.                 | Plain form of the noun.       |\n",
    "\n",
    "### 4. **Important Points:**\n",
    "\n",
    "- The choice between polite and plain forms depends on the context and the relationship between speakers.\n",
    "- Using plain forms can sound rude in formal settings, so it's crucial to assess the situation.\n",
    "- When speaking with family or friends, plain forms are commonly used.\n",
    "- The polite form is not only about ending words differently but often conveys respect.\n",
    "\n",
    "### 5. **Practice:**\n",
    "\n",
    "Transform the following sentences from polite to plain form or vice versa:\n",
    "\n",
    "1. 今日は 雨が降ります。 (Convert to plain form)\n",
    "2. 明日 学校に行きます。 (Convert to plain form)\n",
    "3. 昨日は 寒かったです。 (Convert to plain form)\n",
    "4. 彼女は 学生です。 (Convert to plain form)\n",
    "5. 今日は 明るいです。 (Convert to plain form)\n",
    "\n",
    "Feel free to ask if you need further clarification or additional examples!\n"
   ]
  },
  {
   "cell_type": "markdown",
   "metadata": {},
   "source": [
    "Sure! Here are ten new examples using the polite and plain forms in the specified format:\n",
    "\n",
    "| No. | Japanese Sentence (Hiragana)             | Japanese Sentence (Kanji)            | English Translation            | Romaji                             | Notes                         |\n",
    "| --- | ---------------------------------------- | ------------------------------------ | ------------------------------ | ---------------------------------- | ----------------------------- |\n",
    "| 1   | いま おかしを たべます。                 | 今 お菓子を 食べます。               | I will eat snacks now.         | Ima okashi o tabemasu.             | Polite form of the verb.      |\n",
    "| 2   | いま おかしを たべる。                   | 今 お菓子を 食べる。                 | I will eat snacks now.         | Ima okashi o taberu.               | Plain form of the verb.       |\n",
    "| 3   | きょうは すずしかったです。              | 今日は 涼しかったです。              | It was cool today.             | Kyō wa suzushikatta desu.          | Polite form of the adjective. |\n",
    "| 4   | きょうは すずしかった。                  | 今日は 涼しかった。                  | It was cool today.             | Kyō wa suzushikatta.               | Plain form of the adjective.  |\n",
    "| 5   | かれは せんせいでした。                  | 彼は 先生でした。                    | He was a teacher.              | Kare wa sensei deshita.            | Polite form of the noun.      |\n",
    "| 6   | かれは せんせいだった。                  | 彼は 先生だった。                    | He was a teacher.              | Kare wa sensei datta.              | Plain form of the noun.       |\n",
    "| 7   | あした ひこうきを のります。             | 明日 飛行機に 乗ります。             | I will board a plane tomorrow. | Ashita hikōki ni norimasu.         | Polite form of the verb.      |\n",
    "| 8   | あした ひこうきを のる。                 | 明日 飛行機に 乗る。                 | I will board a plane tomorrow. | Ashita hikōki ni noru.             | Plain form of the verb.       |\n",
    "| 9   | きのうの パーティーは たのしかったです。 | 昨日の パーティーは 楽しかったです。 | The party yesterday was fun.   | Kinō no pātī wa tanoshikatta desu. | Polite form of the adjective. |\n",
    "| 10  | きのうの パーティーは たのしかった。     | 昨日の パーティーは 楽しかった。     | The party yesterday was fun.   | Kinō no pātī wa tanoshikatta.      | Plain form of the adjective.  |\n",
    "\n",
    "Feel free to ask for more examples or any other assistance!\n"
   ]
  },
  {
   "cell_type": "markdown",
   "metadata": {},
   "source": [
    "---\n",
    "---"
   ]
  },
  {
   "cell_type": "markdown",
   "metadata": {},
   "source": [
    "# Grammar 3\n"
   ]
  },
  {
   "cell_type": "markdown",
   "metadata": {},
   "source": [
    "3. …けど、…\n",
    "…, but …\n",
    "\n",
    "1. このケーキは おいしいけど、とても 高 い。\n",
    "   This cake is delicious, but very expensive.\n",
    "\n",
    "2. 今 から 出かけるけど、 すぐ 戻 るね。\n",
    "   I will go out now, but I will come back soon.\n",
    "\n",
    "3. あした 暇 ？\n",
    "   Are you free tomorrow?\n",
    "   ひまだけど、どうしたの？\n",
    "   Yes, I am, what's the matter?\n"
   ]
  },
  {
   "cell_type": "markdown",
   "metadata": {},
   "source": [
    "Sure! Here’s a detailed explanation of the grammar point “…けど、…”, along with examples and practice exercises.\n",
    "\n",
    "### 1. **Explanation:**\n",
    "\n",
    "The phrase “…けど、…” is used to express contrast or opposition between two clauses. It can be translated to “..., but ...” in English. This structure allows the speaker to present two statements that may seem contradictory or to soften a statement by acknowledging another aspect of the situation.\n",
    "\n",
    "### 2. **Conjugation/Transformation Rules:**\n",
    "\n",
    "- **For verbs and adjectives (い-adjectives):** Use the dictionary form of the verb or the past form of the adjective followed by けど.\n",
    "- **For な-adjectives and nouns:** Use the noun or な-adjective form followed by だ (for plain) or です (for polite) and then add けど.\n",
    "\n",
    "**Examples:**\n",
    "\n",
    "- Verb: 食べるけど (taberu kedo) - eat, but\n",
    "- い-adjective: 高いけど (takai kedo) - expensive, but\n",
    "- な-adjective: きれいだけど (kirei da kedo) - pretty, but\n",
    "- Noun: 学生だけど (gakusei da kedo) - I’m a student, but\n",
    "\n",
    "### 3. **Examples and Explanation:**\n",
    "\n",
    "Here are ten new examples using the structure “…けど、…”:\n",
    "\n",
    "| No. | Japanese Sentence (Hiragana)             | Japanese Sentence (Kanji)                | English Translation                             | Romaji                                     | Notes                                               |\n",
    "| --- | ---------------------------------------- | ---------------------------------------- | ----------------------------------------------- | ------------------------------------------ | --------------------------------------------------- |\n",
    "| 1   | この映画は 面白いけど、ちょっと 長い。   | この映画は 面白いけど、ちょっと 長い。   | This movie is interesting, but a bit long.      | Kono eiga wa omoshiroi kedo, chotto nagai. | The contrast between interesting and long.          |\n",
    "| 2   | 彼女は 親切だけど、ちょっと 怖い。       | 彼女は 親切だけど、ちょっと 怖い。       | She is kind, but a bit scary.                   | Kanojo wa shinsetsu da kedo, chotto kowai. | Acknowledges her kindness but adds a twist.         |\n",
    "| 3   | この本は 難しいけど、読みたくなる。      | この本は 難しいけど、読みたくなる。      | This book is difficult, but I want to read it.  | Kono hon wa muzukashii kedo, yomitakunaru. | Expresses desire despite difficulty.                |\n",
    "| 4   | 天気は 良いけど、風が 強い。             | 天気は 良いけど、風が 強い。             | The weather is nice, but the wind is strong.    | Tenki wa yoi kedo, kaze ga tsuyoi.         | Highlights a positive and a negative aspect.        |\n",
    "| 5   | サッカーは 楽しいけど、疲れる。          | サッカーは 楽しいけど、疲れる。          | Soccer is fun, but tiring.                      | Sakkā wa tanoshii kedo, tsukareru.         | Balances enjoyment with fatigue.                    |\n",
    "| 6   | 今日は 忙しいけど、行くつもりです。      | 今日は 忙しいけど、行くつもりです。      | I am busy today, but I plan to go.              | Kyō wa isogashii kedo, iku tsumori desu.   | Indicates intent despite being busy.                |\n",
    "| 7   | 日本語は 難しいけど、面白い。            | 日本語は 難しいけど、面白い。            | Japanese is difficult, but interesting.         | Nihongo wa muzukashii kedo, omoshiroi.     | Highlights both the challenge and the interest.     |\n",
    "| 8   | 昼ごはんは 美味しかったけど、量が 多い。 | 昼ごはんは 美味しかったけど、量が 多い。 | Lunch was delicious, but the portion was large. | Hirugohan wa oishikatta kedo, ryō ga ōi.   | Acknowledges the taste and the portion size.        |\n",
    "| 9   | 昨日は 暑かったけど、今日は 涼しい。     | 昨日は 暑かったけど、今日は 涼しい。     | It was hot yesterday, but it’s cool today.      | Kinō wa atsukatta kedo, kyō wa suzushii.   | Compares two days with contrasting weather.         |\n",
    "| 10  | 明日は 休みだけど、宿題が ある。         | 明日は 休みだけど、宿題が ある。         | I have a day off tomorrow, but I have homework. | Ashita wa yasumi da kedo, shukudai ga aru. | Contrasts free time with homework responsibilities. |\n",
    "\n",
    "### 4. **Important Points:**\n",
    "\n",
    "- The phrase “…けど、…” can be used to soften a statement or to introduce a contrasting idea.\n",
    "- It’s common to use this structure in casual conversations.\n",
    "- In formal writing or speech, “けれども” (keredomo) can be used instead of “けど” for a more polite tone.\n",
    "\n",
    "### 5. **Practice:**\n",
    "\n",
    "**Fill in the blanks with appropriate sentences using “…けど、…”:**\n",
    "\n",
    "1. このシャツは **\\_\\_**けど、色が **\\_\\_**。\n",
    "2. 旅行は **\\_\\_**けど、準備が **\\_\\_**。\n",
    "3. あなたは **\\_\\_**けど、何か **\\_\\_**？\n",
    "4. その映画は **\\_\\_**けど、内容が **\\_\\_**。\n",
    "\n",
    "Feel free to ask for further clarifications or more examples!\n"
   ]
  },
  {
   "cell_type": "markdown",
   "metadata": {},
   "source": [
    "Here are ten new examples using the grammar point “…けど、…” in the specified format:\n",
    "\n",
    "| No. | Japanese Sentence (Hiragana)                      | Japanese Sentence (Kanji)                         | English Translation                                               | Romaji                                               | Notes                                                   |\n",
    "| --- | ------------------------------------------------- | ------------------------------------------------- | ----------------------------------------------------------------- | ---------------------------------------------------- | ------------------------------------------------------- |\n",
    "| 1   | 今日は 暑いけど、明日は 寒いそうです。            | 今日は 暑いけど、明日は 寒いそうです。            | It's hot today, but it seems like it will be cold tomorrow.       | Kyō wa atsui kedo, ashita wa samui sō desu.          | Contrasts today's weather with tomorrow's forecast.     |\n",
    "| 2   | この映画は 面白いけど、ちょっと 長い。            | この映画は 面白いけど、ちょっと 長い。            | This movie is interesting, but a bit long.                        | Kono eiga wa omoshiroi kedo, chotto nagai.           | Acknowledges the interest but notes the length.         |\n",
    "| 3   | 明日は 休みだけど、宿題が ある。                  | 明日は 休みだけど、宿題が ある。                  | I have a day off tomorrow, but I have homework.                   | Ashita wa yasumi da kedo, shukudai ga aru.           | Balances free time with homework responsibilities.      |\n",
    "| 4   | このケーキは 甘いけど、美味しい。                 | このケーキは 甘いけど、美味しい。                 | This cake is sweet, but delicious.                                | Kono kēki wa amai kedo, oishii.                      | Highlights the sweetness and the taste.                 |\n",
    "| 5   | 旅行は 楽しいけど、準備が 大変。                  | 旅行は 楽しいけど、準備が 大変。                  | Traveling is fun, but preparation is tough.                       | Ryokō wa tanoshii kedo, junbi ga taihen.             | Acknowledges the enjoyment and the challenges.          |\n",
    "| 6   | 明日、映画を 見に行くけど、まだ チケットが ない。 | 明日、映画を 見に行くけど、まだ チケットが ない。 | I’m going to see a movie tomorrow, but I don’t have a ticket yet. | Ashita, eiga o mi ni iku kedo, mada chiketto ga nai. | Expresses intent but acknowledges the issue.            |\n",
    "| 7   | 英語は 簡単だけど、日本語は 難しい。              | 英語は 簡単だけど、日本語は 難しい。              | English is easy, but Japanese is difficult.                       | Eigo wa kantan da kedo, Nihongo wa muzukashii.       | Compares the difficulty levels of two languages.        |\n",
    "| 8   | 今日は 雨が 降っているけど、明日は 晴れる。       | 今日は 雨が 降っているけど、明日は 晴れる。       | It’s raining today, but it will be sunny tomorrow.                | Kyō wa ame ga futte iru kedo, ashita wa hareru.      | Highlights contrasting weather conditions.              |\n",
    "| 9   | 彼は 優しいけど、ちょっと 怖い。                  | 彼は 優しいけど、ちょっと 怖い。                  | He is kind, but a bit scary.                                      | Kare wa yasashii kedo, chotto kowai.                 | Acknowledges kindness while adding a contrasting trait. |\n",
    "| 10  | 趣味は 楽しいけど、時間が かかる。                | 趣味は 楽しいけど、時間が かかる。                | Hobbies are fun, but they take time.                              | Shumi wa tanoshii kedo, jikan ga kakaru.             | Balances enjoyment with the time commitment.            |\n",
    "\n",
    "Feel free to ask if you need more examples or further explanations!\n"
   ]
  },
  {
   "cell_type": "markdown",
   "metadata": {},
   "source": [
    "---\n",
    "---"
   ]
  },
  {
   "cell_type": "markdown",
   "metadata": {},
   "source": [
    "# Grammar 4\n"
   ]
  },
  {
   "cell_type": "markdown",
   "metadata": {},
   "source": [
    "4. Plain for でしょう。\n",
    "... right?\n",
    "\n",
    "This sentence pattern is used when the speaker is unsure about what is\n",
    "being said, and therefore, bases everything on their own assumption.\n",
    "\n",
    "The pitch is raised at the end of the sentence.\n",
    "\n",
    "V plain form でしょう。\n",
    "い-adj plain form でしょう。\n",
    "な-adj plain form（…だ）でしょう。\n",
    "N plain form（…だ） でしょう。\n",
    "\n",
    "① Plain form でしょう。\n",
    "It seems that …\n",
    "This is used when making a guess or presumption.\n",
    "\n",
    "1.明日は 雨 でしょう。\n",
    "It seems that it will rain tomorrow.\n",
    "\n",
    "2.山田くんは カラオケが 好きでしょう。\n",
    "It seems that Mr. Yamada likes Karaoke.\n",
    "\n",
    "3.このかばん、 高 いでしょう。\n",
    "It seems that this bag is expensive.\n",
    "\n",
    "②Plain form でしょう。\n",
    "… right?\n",
    "\n",
    "1.あなた 朝 から 晩 まで ずっと 働 いて、疲れたでしょう。\n",
    "You worked from the morning to the night, so you must be very tired, mustn’t you?\n",
    "\n",
    "2.これは あなたの ものでしょう。\n",
    "This is yours, right?\n",
    "\n",
    "③Plain form でしょうか。\n",
    "a polite way to ask a question.\n",
    "\n",
    "A:こちらは お 客 様 の お荷物でしょうか。\n",
    "Is this your luggage, sir?\n",
    "B:ええ、そうです。\n",
    "Yes, it is."
   ]
  },
  {
   "cell_type": "markdown",
   "metadata": {},
   "source": [
    "### 1. Explanation:\n",
    "\n",
    "The structure \"Plain form でしょう\" is used to express conjecture or to seek confirmation. It conveys the speaker's assumption about a situation or invites the listener to agree with the statement. This grammar point is significant in Japanese as it allows speakers to express uncertainty or speculation in a polite manner while engaging the listener.\n",
    "\n",
    "### 2. Conjugation/Transformation Rules:\n",
    "\n",
    "To form the sentence using this structure, one can use the plain form of verbs, い-adjectives, な-adjectives, and nouns. Here’s how to structure them:\n",
    "\n",
    "- **Verbs (V plain form でしょう)**: Use the verb in its dictionary form followed by でしょう.\n",
    "- **い-Adjectives (い-adj plain form でしょう)**: Use the adjective in its plain form followed by でしょう.\n",
    "- **な-Adjectives (な-adj plain form (…だ) でしょう)**: Use the adjective in its plain form followed by だ and then でしょう.\n",
    "- **Nouns (N plain form (…だ) でしょう)**: Use the noun followed by だ and then でしょう.\n",
    "\n",
    "### 3. Examples and Explanation:\n",
    "\n",
    "| No. | Japanese Sentence (Hiragana) | Japanese Sentence (Kanji)  | English Translation                     | Romaji                           | Notes                                                      |\n",
    "| --- | ---------------------------- | -------------------------- | --------------------------------------- | -------------------------------- | ---------------------------------------------------------- |\n",
    "| 1   | 彼は忙しいでしょう。         | 彼は忙しいでしょう。       | He must be busy, right?                 | Kare wa isogashii deshō.         | Assumes the person is busy.                                |\n",
    "| 2   | あなたは学生でしょう。       | あなたは学生でしょう。     | You are a student, right?               | Anata wa gakusei deshō.          | Confirms the listener's status as a student.               |\n",
    "| 3   | 今日は暑いでしょう。         | 今日は暑いでしょう。       | It seems like it’s hot today.           | Kyō wa atsui deshō.              | Conjectures about the weather.                             |\n",
    "| 4   | この本は面白いでしょう。     | この本は面白いでしょう。   | This book is interesting, isn’t it?     | Kono hon wa omoshiroi deshō.     | Speculates about the book’s content.                       |\n",
    "| 5   | 彼女は来ないでしょう。       | 彼女は来ないでしょう。     | She probably won’t come.                | Kanojo wa konai deshō.           | Makes a guess about someone's attendance.                  |\n",
    "| 6   | 明日は休みでしょう。         | 明日は休みでしょう。       | Tomorrow should be a day off, right?    | Ashita wa yasumi deshō.          | Assumes the next day is a holiday.                         |\n",
    "| 7   | 彼は日本人でしょう。         | 彼は日本人でしょう。       | He is probably Japanese, isn’t he?      | Kare wa Nihonjin deshō.          | Speculates about someone’s nationality.                    |\n",
    "| 8   | あの店は高いでしょう。       | あの店は高いでしょう。     | That store is expensive, I guess.       | Ano mise wa takai deshō.         | Guesses about the pricing in a store.                      |\n",
    "| 9   | この映画は感動的でしょう。   | この映画は感動的でしょう。 | This movie is probably touching, right? | Kono eiga wa kandōteki deshō.    | Makes an assumption about the emotional impact of a movie. |\n",
    "| 10  | 彼の誕生日は来週でしょう。   | 彼の誕生日は来週でしょう。 | His birthday is next week, right?       | Kare no tanjōbi wa raishū deshō. | Conjectures about the date of someone's birthday.          |\n",
    "\n",
    "### 4. Important Points:\n",
    "\n",
    "- **Politeness**: Using でしょう softens the statement and makes it more polite. It’s suitable for both formal and informal contexts.\n",
    "- **Raising Intonation**: The pitch typically rises at the end of the sentence, emphasizing uncertainty or seeking confirmation.\n",
    "- **Contextual Clarity**: This form is useful in contexts where the speaker is unsure and wants to gauge the listener’s agreement or knowledge.\n",
    "\n",
    "### 5. Practice:\n",
    "\n",
    "**Exercises**: Convert the following sentences using the plain form でしょう structure.\n",
    "\n",
    "1. 今日は忙しい。\n",
    "2. この料理は美味しい。\n",
    "3. 彼女はサッカーが上手。\n",
    "4. 明日は学校がある。\n",
    "5. 彼の話は面白い。\n",
    "\n",
    "**Answers**:\n",
    "\n",
    "1. 今日は忙しいでしょう。\n",
    "2. この料理は美味しいでしょう。\n",
    "3. 彼女はサッカーが上手でしょう。\n",
    "4. 明日は学校があるでしょう。\n",
    "5. 彼の話は面白いでしょう。\n",
    "\n",
    "Feel free to ask for further examples or explanations!\n"
   ]
  },
  {
   "cell_type": "markdown",
   "metadata": {},
   "source": [
    "Sure! Here are ten new examples using the grammar point of \"Plain form でしょう\":\n",
    "\n",
    "| No. | Japanese Sentence (Hiragana)   | Japanese Sentence (Kanji)      | English Translation                        | Romaji                            | Notes                                                   |\n",
    "| --- | ------------------------------ | ------------------------------ | ------------------------------------------ | --------------------------------- | ------------------------------------------------------- |\n",
    "| 1   | あの映画は面白いでしょう。     | あの映画は面白いでしょう。     | That movie is probably interesting, right? | Ano eiga wa omoshiroi deshō.      | Assumes the movie is interesting.                       |\n",
    "| 2   | 彼は来るでしょう。             | 彼は来るでしょう。             | He will probably come, right?              | Kare wa kuru deshō.               | Speculates about someone's arrival.                     |\n",
    "| 3   | このレストランは高いでしょう。 | このレストランは高いでしょう。 | This restaurant is probably expensive.     | Kono resutoran wa takai deshō.    | Makes a guess about the restaurant’s prices.            |\n",
    "| 4   | あなたの仕事は大変でしょう。   | あなたの仕事は大変でしょう。   | Your job must be tough, right?             | Anata no shigoto wa taihen deshō. | Assumes the listener's job is challenging.              |\n",
    "| 5   | 明日は雨が降るでしょう。       | 明日は雨が降るでしょう。       | It will probably rain tomorrow, right?     | Ashita wa ame ga furu deshō.      | Makes a conjecture about the weather.                   |\n",
    "| 6   | 彼女は忙しいでしょう。         | 彼女は忙しいでしょう。         | She must be busy, right?                   | Kanojo wa isogashii deshō.        | Assumes that the person is busy.                        |\n",
    "| 7   | この問題は簡単でしょう。       | この問題は簡単でしょう。       | This problem is probably easy, right?      | Kono mondai wa kantan deshō.      | Speculates about the difficulty of a problem.           |\n",
    "| 8   | 彼の話は本当でしょう。         | 彼の話は本当でしょう。         | His story is probably true, right?         | Kare no hanashi wa hontō deshō.   | Makes an assumption about the truth of someone's story. |\n",
    "| 9   | あなたは日本に行ったでしょう。 | あなたは日本に行ったでしょう。 | You went to Japan, right?                  | Anata wa Nihon ni itta deshō.     | Confirms whether the listener has traveled to Japan.    |\n",
    "| 10  | これがあなたの本でしょう。     | これがあなたの本でしょう。     | This is probably your book, right?         | Kore ga anata no hon deshō.       | Assumes that the item belongs to the listener.          |\n",
    "\n",
    "Feel free to ask for more examples or explanations!\n"
   ]
  },
  {
   "cell_type": "markdown",
   "metadata": {},
   "source": [
    "---\n",
    "---"
   ]
  },
  {
   "cell_type": "markdown",
   "metadata": {},
   "source": [
    "# Grammar 5\n"
   ]
  },
  {
   "cell_type": "markdown",
   "metadata": {},
   "source": [
    "5. V[た-form] ことが あります。\n",
    "\n",
    "I have done….\n",
    "\n",
    "This sentence pattern is used to tell about your experiences.\n",
    "\n",
    "The plain form is “た-form verb ＋ ことがある”; The polite form is “た-form verb ＋ ことがあります”. \n",
    "\n",
    "1. A:富士山に 登 ったことが ありますか。\n",
    "Have you ever climbed Mt. Fuji?\n",
    "\n",
    "B:はい、あります。\n",
    "Yes, I have.\n",
    "\n",
    "2. A:ハッピー遊 園 地 に 行った こと ある?\n",
    "Have you ever been to Happy Amusement Park?\n",
    "\n",
    "B:ないよ。\n",
    "No."
   ]
  },
  {
   "cell_type": "markdown",
   "metadata": {},
   "source": [
    "Certainly! Here’s a detailed explanation of the grammar point \"V[た-form] ことが あります\":\n",
    "\n",
    "### 1. **Explanation:**\n",
    "\n",
    "The construction \"V[た-form] ことが あります\" is used to express past experiences or to indicate that someone has done something at least once in their life. It emphasizes the existence of the experience rather than the specific details about it. The phrase can be used in both formal and informal contexts, depending on whether you choose the polite form \"ことがあります\" or the plain form \"ことがある\".\n",
    "\n",
    "### 2. **Conjugation/Transformation Rules:**\n",
    "\n",
    "To form this structure:\n",
    "\n",
    "- Start with the verb in its past tense (た-form).\n",
    "- Attach \"ことがある\" for the plain form or \"ことがあります\" for the polite form.\n",
    "\n",
    "**Examples of た-form conjugation:**\n",
    "\n",
    "- 行く (iku) → 行った (itta)\n",
    "- 食べる (taberu) → 食べた (tabeta)\n",
    "- 見る (miru) → 見た (mita)\n",
    "\n",
    "### 3. **Examples and Explanation:**\n",
    "\n",
    "| No. | Japanese Sentence (Hiragana)           | Japanese Sentence (Kanji)              | English Translation                | Romaji                                      | Notes                                         |\n",
    "| --- | -------------------------------------- | -------------------------------------- | ---------------------------------- | ------------------------------------------- | --------------------------------------------- |\n",
    "| 1   | 日本に行ったことがあります。           | 日本に行ったことがあります。           | I have been to Japan.              | Nihon ni itta koto ga arimasu.              | Experience of visiting Japan.                 |\n",
    "| 2   | 彼と話したことがあります。             | 彼と話したことがあります。             | I have talked with him.            | Kare to hanashita koto ga arimasu.          | Experience of having a conversation with him. |\n",
    "| 3   | ピアノを弾いたことがあります。         | ピアノを弾いたことがあります。         | I have played the piano.           | Piano o haita koto ga arimasu.              | Experience of playing the piano.              |\n",
    "| 4   | 映画を見たことがありますか。           | 映画を見たことがありますか。           | Have you ever seen the movie?      | Eiga o mita koto ga arimasu ka?             | Asking if someone has seen the movie.         |\n",
    "| 5   | 料理教室に通ったことがあります。       | 料理教室に通ったことがあります。       | I have attended a cooking class.   | Ryōri kyōshitsu ni tsuotta koto ga arimasu. | Experience of attending a cooking class.      |\n",
    "| 6   | 海で泳いだことがあります。             | 海で泳いだことがあります。             | I have swum in the ocean.          | Umi de oyoida koto ga arimasu.              | Experience of swimming in the ocean.          |\n",
    "| 7   | ハイキングをしたことがあります。       | ハイキングをしたことがあります。       | I have gone hiking.                | Haikingu o shita koto ga arimasu.           | Experience of going hiking.                   |\n",
    "| 8   | その歌を歌ったことがあります。         | その歌を歌ったことがあります。         | I have sung that song.             | Sono uta o utatta koto ga arimasu.          | Experience of singing that song.              |\n",
    "| 9   | 友達の家に泊まったことがあります。     | 友達の家に泊まったことがあります。     | I have stayed at a friend's house. | Tomodachi no ie ni tomatta koto ga arimasu. | Experience of staying at a friend's house.    |\n",
    "| 10  | スカイダイビングをしたことがあります。 | スカイダイビングをしたことがあります。 | I have done skydiving.             | Sukai daibingu o shita koto ga arimasu.     | Experience of skydiving.                      |\n",
    "\n",
    "### 4. **Important Points:**\n",
    "\n",
    "- This grammar structure is focused on experiences; it does not provide details about when or how often something happened.\n",
    "- Use the plain form \"ことがある\" in casual conversations and the polite form \"ことがあります\" in formal contexts or when speaking to someone you don't know well.\n",
    "- The verb used must be in its past tense (た-form).\n",
    "\n",
    "### 5. **Practice:**\n",
    "\n",
    "**Fill in the blanks using \"V[た-form] ことがあります\" in the appropriate form:**\n",
    "\n",
    "1. 私は寿司を ****\\_**** (食べる).\n",
    "2. 彼女はフランスに ****\\_**** (行く).\n",
    "3. あなたは映画を ****\\_**** (見る)ことがありますか？\n",
    "4. 彼は日本語を ****\\_**** (学ぶ)ことがあります。\n",
    "5. 私たちは山に ****\\_**** (登る)ことがあります。\n",
    "\n",
    "**Answers:**\n",
    "\n",
    "1. 食べたことがあります。\n",
    "2. 行ったことがあります。\n",
    "3. 見たことがありますか？\n",
    "4. 学んだことがあります。\n",
    "5. 登ったことがあります。\n",
    "\n",
    "Feel free to ask for more examples or clarification on any points!\n"
   ]
  },
  {
   "cell_type": "markdown",
   "metadata": {},
   "source": [
    "Here are ten new examples using the grammar point \"V[た-form] ことが あります\":\n",
    "\n",
    "| No. | Japanese Sentence (Hiragana)           | Japanese Sentence (Kanji)              | English Translation                 | Romaji                                                   | Notes                                          |\n",
    "| --- | -------------------------------------- | -------------------------------------- | ----------------------------------- | -------------------------------------------------------- | ---------------------------------------------- |\n",
    "| 1   | 彼は日本に行ったことがあります。       | 彼は日本に行ったことがあります。       | He has been to Japan.               | Kare wa Nihon ni itta koto ga arimasu.                   | Experience of traveling to Japan.              |\n",
    "| 2   | 私はその映画を見たことがあります。     | 私はその映画を見たことがあります。     | I have seen that movie.             | Watashi wa sono eiga o mita koto ga arimasu.             | Experience of watching that movie.             |\n",
    "| 3   | 彼女はスキーをしたことがあります。     | 彼女はスキーをしたことがあります。     | She has skied before.               | Kanojo wa sukī o shita koto ga arimasu.                  | Experience of skiing.                          |\n",
    "| 4   | 友達の結婚式に参加したことがあります。 | 友達の結婚式に参加したことがあります。 | I have attended a friend's wedding. | Tomodachi no kekkonshiki ni sanka shita koto ga arimasu. | Experience of attending a wedding.             |\n",
    "| 5   | 料理を作ったことがあります。           | 料理を作ったことがあります。           | I have cooked before.               | Ryōri o tsukutta koto ga arimasu.                        | Experience of cooking.                         |\n",
    "| 6   | 海外旅行をしたことがあります。         | 海外旅行をしたことがあります。         | I have traveled abroad.             | Kaigai ryokō o shita koto ga arimasu.                    | Experience of traveling overseas.              |\n",
    "| 7   | その歌を歌ったことがあります。         | その歌を歌ったことがあります。         | I have sung that song.              | Sono uta o utatta koto ga arimasu.                       | Experience of singing that song.               |\n",
    "| 8   | 彼は犬を飼ったことがあります。         | 彼は犬を飼ったことがあります。         | He has owned a dog.                 | Kare wa inu o kaita koto ga arimasu.                     | Experience of having a dog.                    |\n",
    "| 9   | 日本の文化を学んだことがあります。     | 日本の文化を学んだことがあります。     | I have studied Japanese culture.    | Nihon no bunka o mananda koto ga arimasu.                | Experience of learning about Japanese culture. |\n",
    "| 10  | ロンドンに住んだことがあります。       | ロンドンに住んだことがあります。       | I have lived in London.             | Rondon ni sunda koto ga arimasu.                         | Experience of living in London.                |\n",
    "\n",
    "Feel free to ask for more examples or clarifications!\n"
   ]
  },
  {
   "cell_type": "markdown",
   "metadata": {},
   "source": [
    "---\n",
    "---"
   ]
  },
  {
   "cell_type": "markdown",
   "metadata": {},
   "source": [
    "# Grammar 6\n"
   ]
  },
  {
   "cell_type": "markdown",
   "metadata": {},
   "source": []
  },
  {
   "cell_type": "markdown",
   "metadata": {},
   "source": []
  },
  {
   "cell_type": "markdown",
   "metadata": {},
   "source": [
    "---\n",
    "---"
   ]
  },
  {
   "cell_type": "markdown",
   "metadata": {},
   "source": [
    "# Grammar 7\n"
   ]
  },
  {
   "cell_type": "markdown",
   "metadata": {},
   "source": []
  },
  {
   "cell_type": "markdown",
   "metadata": {},
   "source": []
  },
  {
   "cell_type": "markdown",
   "metadata": {},
   "source": [
    "---\n",
    "---"
   ]
  },
  {
   "cell_type": "markdown",
   "metadata": {},
   "source": [
    "# Grammar 8\n"
   ]
  },
  {
   "cell_type": "markdown",
   "metadata": {},
   "source": []
  },
  {
   "cell_type": "markdown",
   "metadata": {},
   "source": []
  },
  {
   "cell_type": "markdown",
   "metadata": {},
   "source": [
    "---\n",
    "---"
   ]
  },
  {
   "cell_type": "markdown",
   "metadata": {},
   "source": [
    "# Grammar 9\n"
   ]
  },
  {
   "cell_type": "markdown",
   "metadata": {},
   "source": []
  },
  {
   "cell_type": "markdown",
   "metadata": {},
   "source": []
  },
  {
   "cell_type": "markdown",
   "metadata": {},
   "source": [
    "---\n",
    "---"
   ]
  }
 ],
 "metadata": {
  "language_info": {
   "name": "python"
  }
 },
 "nbformat": 4,
 "nbformat_minor": 2
}
